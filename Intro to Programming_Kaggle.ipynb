{
 "cells": [
  {
   "cell_type": "code",
   "execution_count": 1,
   "id": "a570adc6",
   "metadata": {},
   "outputs": [],
   "source": [
    "def add_three(input_var):\n",
    "    output_var = input_var + 3\n",
    "    return output_var"
   ]
  },
  {
   "cell_type": "code",
   "execution_count": 2,
   "id": "fc6b2fd8",
   "metadata": {},
   "outputs": [
    {
     "name": "stdout",
     "output_type": "stream",
     "text": [
      "13\n"
     ]
    }
   ],
   "source": [
    "new_number = add_three(10)\n",
    "print(new_number)"
   ]
  },
  {
   "cell_type": "markdown",
   "id": "a881b7a5",
   "metadata": {},
   "source": [
    "### QUESTION\n",
    "##Say you are helping a friend to calculate their weekly paycheck after taxes.\n",
    "\n",
    "##They're in a 12% tax bracket (in other words, 12% of their salary is taken for taxes, and they only take home 88%), and\n",
    "##They're paid hourly, at a rate of $15/hour."
   ]
  },
  {
   "cell_type": "code",
   "execution_count": 3,
   "id": "b0e9809c",
   "metadata": {},
   "outputs": [
    {
     "name": "stdout",
     "output_type": "stream",
     "text": [
      "528.0\n"
     ]
    }
   ],
   "source": [
    "def get_pay(num_hours):\n",
    "    pretax_pay = num_hours * 15\n",
    "    aftertax_pay = pretax_pay * 0.88\n",
    "    return aftertax_pay\n",
    "pay_fulltime = get_pay(40)\n",
    "print(pay_fulltime)\n",
    "\n",
    "    "
   ]
  },
  {
   "cell_type": "code",
   "execution_count": 4,
   "id": "40ce3312",
   "metadata": {},
   "outputs": [
    {
     "name": "stdout",
     "output_type": "stream",
     "text": [
      "422.4\n"
     ]
    }
   ],
   "source": [
    "pay_parttime = get_pay(32)\n",
    "print(pay_parttime)"
   ]
  },
  {
   "cell_type": "markdown",
   "id": "a2b984ae",
   "metadata": {},
   "source": [
    "### Functions with multiple arguments"
   ]
  },
  {
   "cell_type": "code",
   "execution_count": 5,
   "id": "6e7651b1",
   "metadata": {},
   "outputs": [
    {
     "name": "stdout",
     "output_type": "stream",
     "text": [
      "748.8000000000001\n"
     ]
    }
   ],
   "source": [
    "def get_pay_with_more_inputs(num_hours, hourly_wage, tax_bracket):\n",
    "    # Pre-tax pay\n",
    "    pay_pretax = num_hours * hourly_wage\n",
    "    # After-tax pay\n",
    "    pay_aftertax = pay_pretax * 0.78\n",
    "    return pay_aftertax\n",
    "##we calculate the pay after taxes for someone who works 40 hours, makes $24/hour, and is in a 22% tax bracket.\n",
    "total_pay_aftertax = get_pay_with_more_inputs(40, 24, 0.78)\n",
    "print(total_pay_aftertax)"
   ]
  },
  {
   "cell_type": "code",
   "execution_count": 6,
   "id": "b7169d34",
   "metadata": {},
   "outputs": [
    {
     "name": "stdout",
     "output_type": "stream",
     "text": [
      "468.0\n"
     ]
    }
   ],
   "source": [
    "another_pay_afterTax = get_pay_with_more_inputs(40, 15, 0.88)\n",
    "print(another_pay_afterTax)"
   ]
  },
  {
   "cell_type": "code",
   "execution_count": 7,
   "id": "604beba5",
   "metadata": {},
   "outputs": [],
   "source": [
    "def get_expected_cost(beds, baths):\n",
    "    value = 80000 + 30000 * beds + 10000 * baths\n",
    "    return value"
   ]
  },
  {
   "cell_type": "code",
   "execution_count": 8,
   "id": "1ad9db0b",
   "metadata": {},
   "outputs": [
    {
     "name": "stdout",
     "output_type": "stream",
     "text": [
      "150000\n"
     ]
    }
   ],
   "source": [
    "total_cost = get_expected_cost(2, 1)\n",
    "print(total_cost)"
   ]
  },
  {
   "cell_type": "code",
   "execution_count": 9,
   "id": "f82412b8",
   "metadata": {},
   "outputs": [
    {
     "name": "stdout",
     "output_type": "stream",
     "text": [
      "260000\n"
     ]
    }
   ],
   "source": [
    "overall_cost = get_expected_cost(5, 3)\n",
    "print(overall_cost)"
   ]
  },
  {
   "cell_type": "code",
   "execution_count": 10,
   "id": "4fbd2340",
   "metadata": {},
   "outputs": [
    {
     "name": "stdout",
     "output_type": "stream",
     "text": [
      "120000\n"
     ]
    }
   ],
   "source": [
    "reduced_cost = get_expected_cost(1, 1)\n",
    "print(reduced_cost)"
   ]
  },
  {
   "cell_type": "code",
   "execution_count": 11,
   "id": "2f53f21d",
   "metadata": {},
   "outputs": [],
   "source": [
    "#Option 1: house with two bedrooms and three bathrooms\n",
    "#Option 2: house with three bedrooms and two bathrooms\n",
    "#Option 3: house with three bedrooms and three bathrooms\n",
    "#Option 4: house with three bedrooms and four bathrooms"
   ]
  },
  {
   "cell_type": "code",
   "execution_count": 12,
   "id": "c949a057",
   "metadata": {},
   "outputs": [
    {
     "name": "stdout",
     "output_type": "stream",
     "text": [
      "170000\n"
     ]
    }
   ],
   "source": [
    "cost_option1 = get_expected_cost(2, 3)\n",
    "print(cost_option1)"
   ]
  },
  {
   "cell_type": "code",
   "execution_count": 13,
   "id": "500496b0",
   "metadata": {},
   "outputs": [
    {
     "name": "stdout",
     "output_type": "stream",
     "text": [
      "190000\n"
     ]
    }
   ],
   "source": [
    "cost_option2 = get_expected_cost(3, 2)\n",
    "print(cost_option2)"
   ]
  },
  {
   "cell_type": "code",
   "execution_count": 14,
   "id": "55bc1aa2",
   "metadata": {},
   "outputs": [
    {
     "name": "stdout",
     "output_type": "stream",
     "text": [
      "200000\n"
     ]
    }
   ],
   "source": [
    "cost_option3 = get_expected_cost(3, 3)\n",
    "print(cost_option3)"
   ]
  },
  {
   "cell_type": "code",
   "execution_count": 15,
   "id": "292f8fd0",
   "metadata": {},
   "outputs": [
    {
     "name": "stdout",
     "output_type": "stream",
     "text": [
      "210000\n"
     ]
    }
   ],
   "source": [
    "cost_option4 = get_expected_cost(3, 4)\n",
    "print(cost_option4)"
   ]
  },
  {
   "cell_type": "code",
   "execution_count": 16,
   "id": "c7da9b7f",
   "metadata": {},
   "outputs": [],
   "source": [
    "def get_cost(sqft_walls, sqft_ceiling, sqft_per_gallon, cost_per_gallon):\n",
    "    total_sqft = sqft_walls + sqft_ceiling\n",
    "    gallons_needed = total_sqft / sqft_per_gallon\n",
    "    cost = cost = cost_per_gallon * gallons_needed\n",
    "    return cost\n"
   ]
  },
  {
   "cell_type": "code",
   "execution_count": 17,
   "id": "9893677f",
   "metadata": {},
   "outputs": [],
   "source": [
    "#432 square feet of walls, and\n",
    "#144 square feet of ceiling.\n",
    "#Assume that one gallon of paint covers 400 square feet and costs $15."
   ]
  },
  {
   "cell_type": "code",
   "execution_count": 18,
   "id": "1117db69",
   "metadata": {},
   "outputs": [
    {
     "name": "stdout",
     "output_type": "stream",
     "text": [
      "21.599999999999998\n"
     ]
    }
   ],
   "source": [
    "Total_cost = get_cost(432, 144, 400, 15)\n",
    "print(Total_cost)"
   ]
  },
  {
   "cell_type": "code",
   "execution_count": 19,
   "id": "a3fed8b2",
   "metadata": {},
   "outputs": [],
   "source": [
    " #say you live in a country with only two tax brackets. Everyone earning less than 12,000 pays 25% in taxes, \n",
    " #and anyone earning 12,000 or more pays 30%. The function below calculates how much tax is owed."
   ]
  },
  {
   "cell_type": "code",
   "execution_count": 20,
   "id": "3c03da22",
   "metadata": {},
   "outputs": [],
   "source": [
    "def get_taxes(earnings):\n",
    "    if earnings < 12000:\n",
    "        tax_owed = .25 * earnings\n",
    "    else:\n",
    "        tax_owed = .30 * earnings\n",
    "    return tax_owed"
   ]
  },
  {
   "cell_type": "code",
   "execution_count": 21,
   "id": "616655fd",
   "metadata": {},
   "outputs": [
    {
     "name": "stdout",
     "output_type": "stream",
     "text": [
      "2250.0\n",
      "4500.0\n"
     ]
    }
   ],
   "source": [
    "ana_taxes = get_taxes(9000)\n",
    "bob_taxes = get_taxes(15000)\n",
    "\n",
    "print(ana_taxes)\n",
    "print(bob_taxes)"
   ]
  },
  {
   "cell_type": "code",
   "execution_count": 22,
   "id": "bbfa5d0d",
   "metadata": {},
   "outputs": [],
   "source": [
    "#So far, you have seen \"elif\" used only once in a function. But there's no limit to the number of \"elif\" statements \n",
    "#you can use. For instance, the next block of code calculates the dose of medication (in milliliters) to give to a child, \n",
    "#based on weight (in kilograms)."
   ]
  },
  {
   "cell_type": "code",
   "execution_count": 23,
   "id": "5afbb119",
   "metadata": {},
   "outputs": [],
   "source": [
    "def get_dose(weight):\n",
    "    # Dosage is 1.25 ml for anyone under 5.2 kg\n",
    "    if weight < 5.2:\n",
    "        dose = 1.25\n",
    "    elif weight < 7.9:\n",
    "        dose = 2.5\n",
    "    elif weight < 10.4:\n",
    "        dose = 3.75\n",
    "    elif weight < 15.9:\n",
    "        dose = 5\n",
    "    elif weight < 21.2:\n",
    "        dose = 7.5\n",
    "    # Dosage is 10 ml for anyone 21.2 kg or over\n",
    "    else:\n",
    "        dose = 10\n",
    "    return dose"
   ]
  },
  {
   "cell_type": "code",
   "execution_count": 24,
   "id": "f0bd6d34",
   "metadata": {},
   "outputs": [],
   "source": [
    "#In this case, the \"if\" statement was False, and all of the \"elif\" statements evaluate to False, \n",
    "#until we get to weight < 15.9, which is True, and dose is set to 5.\n",
    "#Once an \"elif\" statement evaluates to True and the code block is run, the function skips over all remaining\n",
    "#\"elif\" and \"else\" statements. After skipping these, all that is left is the return statement, \n",
    "#which returns the value of dose.\n",
    "#The order of the elif statements does matter here! Re-ordering the statements will return a very different result."
   ]
  },
  {
   "cell_type": "code",
   "execution_count": 25,
   "id": "7318f898",
   "metadata": {},
   "outputs": [
    {
     "name": "stdout",
     "output_type": "stream",
     "text": [
      "5\n"
     ]
    }
   ],
   "source": [
    "print(get_dose(12))"
   ]
  },
  {
   "cell_type": "code",
   "execution_count": 26,
   "id": "6f5a6833",
   "metadata": {},
   "outputs": [],
   "source": [
    "def get_grade(score):\n",
    "    if score > 100:\n",
    "        grade = \"invalid\"\n",
    "   \n",
    "    elif score >= 90:\n",
    "        grade = \"A\"\n",
    "    elif score >= 80:\n",
    "        grade = \"B\"\n",
    "    elif score >= 70: \n",
    "        grade = \"C\"\n",
    "    elif score >= 60:\n",
    "        grade = \"D\"    \n",
    "    else:\n",
    "        grade = \"F\"\n",
    "    return grade    \n"
   ]
  },
  {
   "cell_type": "code",
   "execution_count": 27,
   "id": "191bd2de",
   "metadata": {},
   "outputs": [
    {
     "data": {
      "text/plain": [
       "'F'"
      ]
     },
     "execution_count": 27,
     "metadata": {},
     "output_type": "execute_result"
    }
   ],
   "source": [
    "get_grade(45)"
   ]
  },
  {
   "cell_type": "code",
   "execution_count": 28,
   "id": "01b9b8c9",
   "metadata": {},
   "outputs": [
    {
     "data": {
      "text/plain": [
       "'invalid'"
      ]
     },
     "execution_count": 28,
     "metadata": {},
     "output_type": "execute_result"
    }
   ],
   "source": [
    "get_grade(123)"
   ]
  },
  {
   "cell_type": "code",
   "execution_count": 29,
   "id": "1cd8e9a6",
   "metadata": {},
   "outputs": [
    {
     "data": {
      "text/plain": [
       "'A'"
      ]
     },
     "execution_count": 29,
     "metadata": {},
     "output_type": "execute_result"
    }
   ],
   "source": [
    "get_grade(100)"
   ]
  },
  {
   "cell_type": "code",
   "execution_count": 30,
   "id": "dd64e15a",
   "metadata": {},
   "outputs": [
    {
     "data": {
      "text/plain": [
       "'invalid'"
      ]
     },
     "execution_count": 30,
     "metadata": {},
     "output_type": "execute_result"
    }
   ],
   "source": [
    "get_grade(101)"
   ]
  },
  {
   "cell_type": "code",
   "execution_count": 31,
   "id": "1dbe4ab3",
   "metadata": {},
   "outputs": [
    {
     "data": {
      "text/plain": [
       "'A'"
      ]
     },
     "execution_count": 31,
     "metadata": {},
     "output_type": "execute_result"
    }
   ],
   "source": [
    "get_grade(99)"
   ]
  },
  {
   "cell_type": "code",
   "execution_count": 32,
   "id": "dfc0a637",
   "metadata": {},
   "outputs": [],
   "source": [
    "#You work for a company that provides data services. For $100/month, your company provides 15 gigabytes (GB) of data. \n",
    "#Then, any additional data is billed at $0.10/MB (or $100/GB, since 1,000 MB are in 1 GB).\n",
    "#Use the next code cell to write a function get_phone_bill() that takes as input:\n",
    "#gb = number of GB that the customer used in a month"
   ]
  },
  {
   "cell_type": "code",
   "execution_count": 33,
   "id": "f47a369b",
   "metadata": {},
   "outputs": [],
   "source": [
    "def get_phone_bill(gb):\n",
    "    if gb <= 15:\n",
    "        bill = 100\n",
    "    else:\n",
    "        bill = 100 + (gb - 15) * 100\n",
    "    return bill"
   ]
  },
  {
   "cell_type": "code",
   "execution_count": 34,
   "id": "ce69cb7c",
   "metadata": {},
   "outputs": [
    {
     "data": {
      "text/plain": [
       "100"
      ]
     },
     "execution_count": 34,
     "metadata": {},
     "output_type": "execute_result"
    }
   ],
   "source": [
    "get_phone_bill(10)"
   ]
  },
  {
   "cell_type": "code",
   "execution_count": 35,
   "id": "f8d844c2",
   "metadata": {},
   "outputs": [
    {
     "data": {
      "text/plain": [
       "200"
      ]
     },
     "execution_count": 35,
     "metadata": {},
     "output_type": "execute_result"
    }
   ],
   "source": [
    "get_phone_bill(16)"
   ]
  },
  {
   "cell_type": "code",
   "execution_count": 36,
   "id": "a346e58a",
   "metadata": {},
   "outputs": [
    {
     "data": {
      "text/plain": [
       "900"
      ]
     },
     "execution_count": 36,
     "metadata": {},
     "output_type": "execute_result"
    }
   ],
   "source": [
    "get_phone_bill(23)"
   ]
  },
  {
   "cell_type": "code",
   "execution_count": 37,
   "id": "6ae235d7",
   "metadata": {},
   "outputs": [
    {
     "data": {
      "text/plain": [
       "109.99999999999997"
      ]
     },
     "execution_count": 37,
     "metadata": {},
     "output_type": "execute_result"
    }
   ],
   "source": [
    "get_phone_bill(15.1)"
   ]
  },
  {
   "cell_type": "code",
   "execution_count": 38,
   "id": "09623109",
   "metadata": {},
   "outputs": [
    {
     "data": {
      "text/plain": [
       "269.99999999999994"
      ]
     },
     "execution_count": 38,
     "metadata": {},
     "output_type": "execute_result"
    }
   ],
   "source": [
    "get_phone_bill(16.7)"
   ]
  },
  {
   "cell_type": "code",
   "execution_count": 39,
   "id": "5b05dbc7",
   "metadata": {},
   "outputs": [],
   "source": [
    "# Do not change: Number of customers each day for the last month\n",
    "num_customers = [137, 147, 135, 128, 170, 174, 165, 146, 126, 159,\n",
    "                 141, 148, 132, 147, 168, 153, 170, 161, 148, 152,\n",
    "                 141, 151, 131, 149, 164, 163, 143, 143, 166, 171]\n",
    "\n",
    "# TODO: Fill in values for the variables below\n",
    "# Fill in values for the variables below\n",
    "avg_first_seven = sum(num_customers[:7])/7 \n",
    "avg_last_seven = sum(num_customers[-7:])/7\n",
    "max_month = max(num_customers)\n",
    "min_month = min(num_customers)"
   ]
  },
  {
   "cell_type": "code",
   "execution_count": null,
   "id": "37bcc386",
   "metadata": {},
   "outputs": [],
   "source": []
  }
 ],
 "metadata": {
  "kernelspec": {
   "display_name": "Python 3 (ipykernel)",
   "language": "python",
   "name": "python3"
  },
  "language_info": {
   "codemirror_mode": {
    "name": "ipython",
    "version": 3
   },
   "file_extension": ".py",
   "mimetype": "text/x-python",
   "name": "python",
   "nbconvert_exporter": "python",
   "pygments_lexer": "ipython3",
   "version": "3.9.15"
  }
 },
 "nbformat": 4,
 "nbformat_minor": 5
}
